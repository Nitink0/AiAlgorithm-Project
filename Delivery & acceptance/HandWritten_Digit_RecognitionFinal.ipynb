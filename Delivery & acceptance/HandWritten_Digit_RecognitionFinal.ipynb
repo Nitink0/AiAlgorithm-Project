{
 "cells": [
  {
   "cell_type": "code",
   "execution_count": 1,
   "metadata": {
    "id": "ZmBmB8seV58W"
   },
   "outputs": [],
   "source": [
    "# Hand written digit recognition "
   ]
  },
  {
   "cell_type": "code",
   "execution_count": 98,
   "metadata": {
    "id": "hbJ5j74rWEWw"
   },
   "outputs": [],
   "source": [
    "from tensorflow import keras\n",
    "from keras.models import Sequential\n",
    "from keras.layers import Dense, Conv2D, Flatten\n",
    "from keras.datasets import mnist\n",
    "from tensorflow.keras.utils import to_categorical\n",
    "import matplotlib.pyplot as plt\n",
    "import numpy as np\n",
    "import cv2\n",
    "import tensorflow as tf\n",
    "import glob\n",
    "import time\n",
    "\n",
    "\n"
   ]
  },
  {
   "cell_type": "code",
   "execution_count": 89,
   "metadata": {
    "id": "e962nMoZWJ78"
   },
   "outputs": [],
   "source": [
    "# load the data and split to train and test dataset"
   ]
  },
  {
   "cell_type": "code",
   "execution_count": 90,
   "metadata": {
    "colab": {
     "base_uri": "https://localhost:8080/"
    },
    "id": "mGJyjIAyXJ6Y",
    "outputId": "4d4fabcd-dbbe-4ce0-e0ae-46b94f5fcb18"
   },
   "outputs": [],
   "source": [
    "(X_train, Y_train),(X_test,Y_test) = mnist.load_data()"
   ]
  },
  {
   "cell_type": "code",
   "execution_count": 91,
   "metadata": {
    "colab": {
     "base_uri": "https://localhost:8080/"
    },
    "id": "Ev2m5W7XXVJA",
    "outputId": "23408572-7a71-4aff-d049-4a717f5ca1d8"
   },
   "outputs": [
    {
     "name": "stdout",
     "output_type": "stream",
     "text": [
      "(60000, 28, 28)\n",
      "(10000, 28, 28)\n"
     ]
    }
   ],
   "source": [
    "\n",
    "print(X_train.shape)\n",
    "print(X_test.shape)\n"
   ]
  },
  {
   "cell_type": "code",
   "execution_count": 92,
   "metadata": {
    "colab": {
     "base_uri": "https://localhost:8080/"
    },
    "id": "ebl_3xz3XgnV",
    "outputId": "4ba78adc-2aff-48f2-8ebb-7b78d9a86e83"
   },
   "outputs": [
    {
     "name": "stdout",
     "output_type": "stream",
     "text": [
      "[[  0   0   0   0   0   0   0   0   0   0   0   0   0   0   0   0   0   0\n",
      "    0   0   0   0   0   0   0   0   0   0]\n",
      " [  0   0   0   0   0   0   0   0   0   0   0   0   0   0   0   0   0   0\n",
      "    0   0   0   0   0   0   0   0   0   0]\n",
      " [  0   0   0   0   0   0   0   0   0   0   0   0   0   0   0   0   0   0\n",
      "    0   0   0   0   0   0   0   0   0   0]\n",
      " [  0   0   0   0   0   0   0   0   0   0   0   0   0   0   0   0   0   0\n",
      "    0   0   0   0   0   0   0   0   0   0]\n",
      " [  0   0   0   0   0   0   0   0   0   0   0   0   0   0   0   0   0   0\n",
      "    0   0   0   0   0   0   0   0   0   0]\n",
      " [  0   0   0   0   0   0   0  14 116 137 251 178  15   0   0   0   0   0\n",
      "    0   0   0   0   0   0   0   0   0   0]\n",
      " [  0   0   0   0   0   0  33 229 254 254 254 254 219  11   0   0   0   0\n",
      "    0   0   0   0   0   0   0   0   0   0]\n",
      " [  0   0   0   0   0   0 110 254 169  83  86 231 254 169  13   0   0   0\n",
      "    0   0   0   0   0   0   0   0   0   0]\n",
      " [  0   0   0   0   0   0  14 121  12   0   0 110 254 254  92   0   0   0\n",
      "    0   0   0   0   0   0   0   0   0   0]\n",
      " [  0   0   0   0   0   0   0   0   0   0   0   5 136 254 240  34   0   0\n",
      "    0   0   0   0   0   0   0   0   0   0]\n",
      " [  0   0   0   0   0   0   0   0   0   0   0   0  42 254 254 146   0   0\n",
      "    0   0   0   0   0   0   0   0   0   0]\n",
      " [  0   0   0   0   0   0   0   0   0   0   0   0   2 124 254 250  22   0\n",
      "    0   0   0   0   0   0   0   0   0   0]\n",
      " [  0   0   0   0   0   0   0   0   0   0   0   0   0  27 222 246  21   0\n",
      "    0   0   0   0   0   0   0   0   0   0]\n",
      " [  0   0   0   0   0   0   0   0   0   0   0   0   0   0 196 175   4   0\n",
      "    0   0   0   0   0   0   0   0   0   0]\n",
      " [  0   0   0   0   0   0   0   0   0   0   0   0   0   0 114 255  51   0\n",
      "    0   0   0   0   0   0   0   0   0   0]\n",
      " [  0   0   0   0   0   0   0   0   0   0   0   0   0   0  78 254 141   0\n",
      "    0   0   0   0   0   0   0   0   0   0]\n",
      " [  0   0   0   0   0   0   0   0   0   0   0   0   0   0  78 255 141   0\n",
      "    0   0   0   0   0   0   0   0   0   0]\n",
      " [  0   0   0   0   0   0   0   0   0   0   0   0   0   0 130 254  89   0\n",
      "    0   0   0   0   0   0   0   0   0   0]\n",
      " [  0   0   0   0   0   0   0   0   0   0   0   2  88 131 226 206  12   0\n",
      "    0   0   0   0   0   0   0   0   0   0]\n",
      " [  0   0   0   0   0   0   0   0   0   0   0  22 230 255 254 170   3   0\n",
      "    0   0   0   0   0   0   0   0   0   0]\n",
      " [  0   0   0   0   0   0   0   0   0   0   0   0  15 182 254 254 174  26\n",
      "    0   0   0   0   0   0   0   0   0   0]\n",
      " [  0   0   0   0   0   0   0   0   0   0   0   0   0  17 182 224 254 213\n",
      "   58   0   0   0   0   0   0   0   0   0]\n",
      " [  0   0   0   0   0   0   0   0   0   0   0   0   0   0  16  28 237 254\n",
      "  248 180  62   0   0   0   0   0   0   0]\n",
      " [  0   0   0   0   0   0   0   0   0   0   0   0   0   0   0   0  32 203\n",
      "  254 254 246 148   0   0   0   0   0   0]\n",
      " [  0   0   0   0   0   0   0   0   0   0   0   0   0   0   0   0   0   9\n",
      "   45 254 254 171   0   0   0   0   0   0]\n",
      " [  0   0   0   0   0   0   0   0   0   0   0   0   0   0   0   0   0   0\n",
      "    0   0   0   0   0   0   0   0   0   0]\n",
      " [  0   0   0   0   0   0   0   0   0   0   0   0   0   0   0   0   0   0\n",
      "    0   0   0   0   0   0   0   0   0   0]\n",
      " [  0   0   0   0   0   0   0   0   0   0   0   0   0   0   0   0   0   0\n",
      "    0   0   0   0   0   0   0   0   0   0]]\n",
      "2\n"
     ]
    }
   ],
   "source": [
    "#sample image\n",
    "print(X_train[444])\n",
    "print(Y_train[444])\n"
   ]
  },
  {
   "cell_type": "code",
   "execution_count": 93,
   "metadata": {
    "colab": {
     "base_uri": "https://localhost:8080/",
     "height": 282
    },
    "id": "LP77wWKsYQ76",
    "outputId": "6d8fe5ab-049d-4e51-85ce-663808f7b17c"
   },
   "outputs": [
    {
     "data": {
      "text/plain": [
       "<matplotlib.image.AxesImage at 0x7fe5cee0f4c0>"
      ]
     },
     "execution_count": 93,
     "metadata": {},
     "output_type": "execute_result"
    },
    {
     "data": {
      "image/png": "[encoded data removed]",
      "text/plain": [
       "<Figure size 432x288 with 1 Axes>"
      ]
     },
     "metadata": {
      "needs_background": "light"
     },
     "output_type": "display_data"
    }
   ],
   "source": [
    "# show the image a picture\n",
    "plt.imshow(X_train[444])\n"
   ]
  },
  {
   "cell_type": "code",
   "execution_count": 94,
   "metadata": {
    "colab": {
     "base_uri": "https://localhost:8080/"
    },
    "id": "fqlUFifqYqwk",
    "outputId": "87477aeb-530a-4567-cf37-aea4f74352f4"
   },
   "outputs": [
    {
     "data": {
      "text/plain": [
       "(60000, 28, 28, 1)"
      ]
     },
     "execution_count": 94,
     "metadata": {},
     "output_type": "execute_result"
    }
   ],
   "source": [
    "# reshape the data to fit the model\n",
    "\n",
    "X_train = X_train.reshape(60000,28,28,1)     # 1 the depth of the grascale\n",
    "X_test = X_test.reshape(10000,28,28,1)\n",
    "\n",
    "X_train.shape\n"
   ]
  },
  {
   "cell_type": "code",
   "execution_count": 95,
   "metadata": {
    "colab": {
     "base_uri": "https://localhost:8080/"
    },
    "id": "mPlDsM0OaSBP",
    "outputId": "8dcbfc28-89b0-4b56-d07f-07ee9e38e637"
   },
   "outputs": [
    {
     "data": {
      "text/plain": [
       "(60000, 10)"
      ]
     },
     "execution_count": 95,
     "metadata": {},
     "output_type": "execute_result"
    }
   ],
   "source": [
    "# encoding the target set\n",
    "y_test_Encode = to_categorical(Y_test)\n",
    "y_train_Encode = to_categorical(Y_train)\n",
    "\n",
    "y_train_Encode.shape"
   ]
  },
  {
   "cell_type": "code",
   "execution_count": 96,
   "metadata": {
    "colab": {
     "base_uri": "https://localhost:8080/"
    },
    "id": "1W6oS8joain8",
    "outputId": "926ba468-7e18-4cda-de24-804d4ae8f887"
   },
   "outputs": [
    {
     "data": {
      "text/plain": [
       "array([0., 0., 1., 0., 0., 0., 0., 0., 0., 0.], dtype=float32)"
      ]
     },
     "execution_count": 96,
     "metadata": {},
     "output_type": "execute_result"
    }
   ],
   "source": [
    "# new label\n",
    "y_train_Encode[444]"
   ]
  },
  {
   "cell_type": "code",
   "execution_count": 99,
   "metadata": {},
   "outputs": [],
   "source": [
    "# load model\n",
    "\n",
    "model = keras.models.load_model('/Users/nitin/Desktop/handWrittenModel')\n"
   ]
  },
  {
   "cell_type": "code",
   "execution_count": 11,
   "metadata": {
    "id": "V4G69bdTapj2"
   },
   "outputs": [],
   "source": [
    "# create the model CNN"
   ]
  },
  {
   "cell_type": "code",
   "execution_count": 131,
   "metadata": {
    "id": "D7mqIlk-azXr"
   },
   "outputs": [
    {
     "name": "stdout",
     "output_type": "stream",
     "text": [
      "Model: \"sequential_7\"\n",
      "_________________________________________________________________\n",
      " Layer (type)                Output Shape              Param #   \n",
      "=================================================================\n",
      " conv2d_14 (Conv2D)          (None, 26, 26, 64)        640       \n",
      "                                                                 \n",
      " conv2d_15 (Conv2D)          (None, 24, 24, 32)        18464     \n",
      "                                                                 \n",
      " conv2d_16 (Conv2D)          (None, 22, 22, 32)        9248      \n",
      "                                                                 \n",
      " flatten_4 (Flatten)         (None, 15488)             0         \n",
      "                                                                 \n",
      " dense_4 (Dense)             (None, 10)                154890    \n",
      "                                                                 \n",
      "=================================================================\n",
      "Total params: 183,242\n",
      "Trainable params: 183,242\n",
      "Non-trainable params: 0\n",
      "_________________________________________________________________\n"
     ]
    }
   ],
   "source": [
    "model = Sequential()\n",
    "\n",
    "#add model layers\n",
    "\n",
    "# first layer\n",
    "model.add(Conv2D(64, kernel_size=3, activation='relu', input_shape=(28,28,1)))      # relu= rectified linear unit\n",
    "\n",
    "# second layer\n",
    "model.add(Conv2D(32, kernel_size=3, activation='relu'))\n",
    "\n",
    "# third layer\n",
    "model.add(Conv2D(32, kernel_size=3, activation='relu'))\n",
    "\n",
    "# connected layer\n",
    "model.add(Flatten())\n",
    "model.add(Dense(10, activation='softmax'))\n",
    "\n",
    "model.summary()"
   ]
  },
  {
   "cell_type": "code",
   "execution_count": 132,
   "metadata": {
    "id": "19k75abnca4X"
   },
   "outputs": [],
   "source": [
    "# compile the model\n",
    "model.compile(optimizer='adam',loss='categorical_crossentropy', metrics=['accuracy'])"
   ]
  },
  {
   "cell_type": "code",
   "execution_count": 133,
   "metadata": {
    "colab": {
     "base_uri": "https://localhost:8080/"
    },
    "id": "cMlbwMeSc-kG",
    "outputId": "33910eb4-2893-4d13-a94f-02a918a831cf"
   },
   "outputs": [
    {
     "name": "stdout",
     "output_type": "stream",
     "text": [
      "Epoch 1/5\n",
      "1875/1875 [==============================] - 199s 106ms/step - loss: 0.2263 - accuracy: 0.9574 - val_loss: 0.0729 - val_accuracy: 0.9763\n",
      "Epoch 2/5\n",
      "1875/1875 [==============================] - 187s 100ms/step - loss: 0.0556 - accuracy: 0.9830 - val_loss: 0.0599 - val_accuracy: 0.9813\n",
      "Epoch 3/5\n",
      "1875/1875 [==============================] - 192s 102ms/step - loss: 0.0404 - accuracy: 0.9877 - val_loss: 0.0566 - val_accuracy: 0.9828\n",
      "Epoch 4/5\n",
      "1875/1875 [==============================] - 190s 101ms/step - loss: 0.0316 - accuracy: 0.9904 - val_loss: 0.0675 - val_accuracy: 0.9798\n",
      "Epoch 5/5\n",
      "1875/1875 [==============================] - 178s 95ms/step - loss: 0.0263 - accuracy: 0.9918 - val_loss: 0.0687 - val_accuracy: 0.9833\n"
     ]
    }
   ],
   "source": [
    "# train the model\n",
    "hist = model.fit(X_train,y_train_Encode, validation_data=(X_test,y_test_Encode),epochs=5)   #epochs is the numer of iterations"
   ]
  },
  {
   "cell_type": "code",
   "execution_count": 134,
   "metadata": {},
   "outputs": [
    {
     "name": "stdout",
     "output_type": "stream",
     "text": [
      "INFO:tensorflow:Assets written to: /Users/nitin/Desktop/handWrittenModel/assets\n"
     ]
    }
   ],
   "source": [
    "# saving the model \n",
    "model.save(\"/Users/nitin/Desktop/handWrittenModel/\")"
   ]
  },
  {
   "cell_type": "code",
   "execution_count": 135,
   "metadata": {
    "colab": {
     "base_uri": "https://localhost:8080/",
     "height": 312
    },
    "id": "dLAQwzhGdhpG",
    "outputId": "1739373a-1bcc-4659-c60a-c6b2c7d0df8b"
   },
   "outputs": [
    {
     "data": {
      "text/plain": [
       "<function matplotlib.pyplot.show(close=None, block=None)>"
      ]
     },
     "execution_count": 135,
     "metadata": {},
     "output_type": "execute_result"
    },
    {
     "data": {
      "image/png": "[encoded data removed]",
      "text/plain": [
       "<Figure size 432x288 with 1 Axes>"
      ]
     },
     "metadata": {
      "needs_background": "light"
     },
     "output_type": "display_data"
    }
   ],
   "source": [
    "# accuracy of the model\n",
    "plt.plot(hist.history['accuracy'])\n",
    "plt.plot(hist.history['val_accuracy'])\n",
    "plt.title('Model Accuracy')\n",
    "plt.ylabel('Accuracy')\n",
    "plt.xlabel('epochs')\n",
    "plt.legend(['Train', 'val'], loc='upper left')\n",
    "plt.show"
   ]
  },
  {
   "cell_type": "code",
   "execution_count": 136,
   "metadata": {},
   "outputs": [
    {
     "data": {
      "image/png": "[encoded data removed]",
      "text/plain": [
       "<Figure size 432x288 with 1 Axes>"
      ]
     },
     "metadata": {
      "needs_background": "light"
     },
     "output_type": "display_data"
    }
   ],
   "source": [
    "# plot the loss of the model\n",
    "\n",
    "plt.plot(hist.history['loss'])\n",
    "plt.plot(hist.history['val_loss'])\n",
    "plt.title('model loss')\n",
    "plt.ylabel('loss')\n",
    "plt.xlabel('epoch')\n",
    "plt.legend(['train', 'test'], loc='upper left')\n",
    "plt.show()"
   ]
  },
  {
   "cell_type": "code",
   "execution_count": 137,
   "metadata": {
    "colab": {
     "base_uri": "https://localhost:8080/"
    },
    "id": "KiGrOqylheOI",
    "outputId": "4061367c-d351-4cee-ae89-5f1c0936641b"
   },
   "outputs": [
    {
     "data": {
      "text/plain": [
       "array([[7.39330430e-10, 3.49751339e-15, 5.68887604e-10, 9.96752569e-10,\n",
       "        3.69213615e-16, 9.50461176e-16, 2.42158563e-22, 1.00000000e+00,\n",
       "        6.36297059e-13, 3.28736094e-10],\n",
       "       [1.07367422e-08, 3.56889700e-08, 1.00000000e+00, 2.32107578e-09,\n",
       "        1.34706868e-09, 1.10113721e-16, 4.55511291e-08, 1.05111903e-13,\n",
       "        2.36116549e-08, 1.44278139e-16],\n",
       "       [9.25656704e-11, 9.99985576e-01, 2.72116618e-09, 2.03720332e-10,\n",
       "        1.40443635e-05, 2.97106713e-08, 1.71531811e-09, 2.78909965e-07,\n",
       "        8.67875301e-08, 1.13644283e-09],\n",
       "       [9.99999523e-01, 4.47046879e-15, 1.26360959e-07, 2.20703594e-11,\n",
       "        1.96809036e-09, 1.87654961e-10, 2.14305530e-07, 5.83633211e-11,\n",
       "        6.06533018e-11, 8.46022061e-08]], dtype=float32)"
      ]
     },
     "execution_count": 137,
     "metadata": {},
     "output_type": "execute_result"
    }
   ],
   "source": [
    "# show predictions \n",
    "predictions = model.predict(X_test[:4])\n",
    "predictions"
   ]
  },
  {
   "cell_type": "code",
   "execution_count": 138,
   "metadata": {
    "colab": {
     "base_uri": "https://localhost:8080/"
    },
    "id": "LSbyGM3Jio4C",
    "outputId": "7f2f9786-b511-471a-b607-09117846236e"
   },
   "outputs": [
    {
     "name": "stdout",
     "output_type": "stream",
     "text": [
      "[7 2 1 0]\n",
      "[7 2 1 0]\n"
     ]
    }
   ],
   "source": [
    "#print predictions as number label for the first four images\n",
    "\n",
    "print(np.argmax(predictions, axis=1))    # armax will return the highest value from the array\n",
    "\n",
    "# print the actual number\n",
    "print(Y_test[:4])"
   ]
  },
  {
   "cell_type": "code",
   "execution_count": 139,
   "metadata": {
    "colab": {
     "base_uri": "https://localhost:8080/",
     "height": 1000
    },
    "id": "HXZEUyEmjqp4",
    "outputId": "0ebd70f0-a50d-430c-e14a-856d67a2c2bb"
   },
   "outputs": [
    {
     "data": {
      "image/png": "[encoded data removed]",
      "text/plain": [
       "<Figure size 432x288 with 1 Axes>"
      ]
     },
     "metadata": {
      "needs_background": "light"
     },
     "output_type": "display_data"
    },
    {
     "data": {
      "image/png": "[encoded data removed]",
      "text/plain": [
       "<Figure size 432x288 with 1 Axes>"
      ]
     },
     "metadata": {
      "needs_background": "light"
     },
     "output_type": "display_data"
    },
    {
     "data": {
      "image/png": "[encoded data removed]",
      "text/plain": [
       "<Figure size 432x288 with 1 Axes>"
      ]
     },
     "metadata": {
      "needs_background": "light"
     },
     "output_type": "display_data"
    },
    {
     "data": {
      "image/png": "[encoded data removed]",
      "text/plain": [
       "<Figure size 432x288 with 1 Axes>"
      ]
     },
     "metadata": {
      "needs_background": "light"
     },
     "output_type": "display_data"
    }
   ],
   "source": [
    "# display the first four images\n",
    "\n",
    "for i in range(0,4):\n",
    "  image = X_test[i]\n",
    "  image = np.array(image, dtype='float')\n",
    "  pixels = image.reshape((28,28))\n",
    "  plt.imshow(pixels, cmap='gray')\n",
    "  plt.show()\n"
   ]
  },
  {
   "cell_type": "markdown",
   "metadata": {
    "id": "X-VN7IClqpqF"
   },
   "source": [
    "# New Section"
   ]
  },
  {
   "cell_type": "code",
   "execution_count": 140,
   "metadata": {
    "colab": {
     "base_uri": "https://localhost:8080/",
     "height": 356
    },
    "id": "1oAJRQFdlwX0",
    "outputId": "1aa89af2-3695-4614-8e63-19a2f4474900"
   },
   "outputs": [
    {
     "name": "stdout",
     "output_type": "stream",
     "text": [
      "(370, 389, 3)\n",
      "(370, 389)\n",
      "(28, 28)\n",
      "784\n",
      "0\n"
     ]
    },
    {
     "data": {
      "image/png": "[encoded data removed]",
      "text/plain": [
       "<Figure size 432x288 with 1 Axes>"
      ]
     },
     "metadata": {
      "needs_background": "light"
     },
     "output_type": "display_data"
    }
   ],
   "source": [
    "\n",
    "#/content/train_39_02986.png\n",
    "\n",
    "imge = cv2.imread('/Users/nitin/Desktop/handwrittendigits/0_8.png') \n",
    "\n",
    "print(imge.shape)\n",
    "plt.imshow(imge)\n",
    "gray = cv2.cvtColor(imge, cv2.COLOR_BGR2GRAY)\n",
    "print(gray.shape)\n",
    "\n",
    "resized = cv2.resize(gray, (28,28), interpolation=cv2.INTER_AREA)\n",
    "print(resized.shape)\n",
    "print(resized.size)\n",
    "\n",
    "imge = np.invert(np.array(resized))     ##invert black to white in images so that model wont get confues\n",
    "pixels = imge.reshape((-1,28,28,1))\n",
    "prdct = model.predict(pixels)\n",
    "\n",
    "print(np.argmax(prdct))    \n"
   ]
  },
  {
   "cell_type": "code",
   "execution_count": 141,
   "metadata": {
    "id": "NbPv9b63kJH9"
   },
   "outputs": [],
   "source": [
    "\n",
    "def predictImg(img):\n",
    "    \n",
    "    imge = cv2.imread(img) \n",
    "\n",
    "    #print(imge.shape)\n",
    "    gray = cv2.cvtColor(imge, cv2.COLOR_BGR2GRAY)\n",
    "    \n",
    "    #print(gray.shape)\n",
    "\n",
    "    resized = cv2.resize(gray, (28,28), interpolation=cv2.INTER_AREA)\n",
    "    \n",
    "    #print(resized.shape)\n",
    "    #print(resized.size)\n",
    "\n",
    "    imge = np.invert(np.array(resized))     ##invert black to white in images so that model wont get confues\n",
    "    pixels = imge.reshape((-1,28,28,1))\n",
    "    prdct = model.predict(pixels)\n",
    "    \n",
    "    plt.figure\n",
    "    plt.imshow(imge)\n",
    "    plt.show()\n",
    "    print(np.argmax(prdct))\n",
    "    #print(np.argmax(prdct)) \n",
    "    \n",
    "\n"
   ]
  },
  {
   "cell_type": "code",
   "execution_count": 86,
   "metadata": {},
   "outputs": [],
   "source": [
    "folder = glob.glob('/Users/nitin/Desktop/handwrittendigits/*')\n",
    "imagenames_list = []\n",
    "for i in folder:\n",
    "    imagenames_list.append(i)\n",
    "    "
   ]
  },
  {
   "cell_type": "code",
   "execution_count": 102,
   "metadata": {},
   "outputs": [],
   "source": [
    "#for i in imagenames_list:\n",
    " #   predictImg(i)"
   ]
  },
  {
   "cell_type": "code",
   "execution_count": 142,
   "metadata": {},
   "outputs": [
    {
     "data": {
      "image/png": "[encoded data removed]",
      "text/plain": [
       "<Figure size 432x288 with 1 Axes>"
      ]
     },
     "metadata": {
      "needs_background": "light"
     },
     "output_type": "display_data"
    },
    {
     "name": "stdout",
     "output_type": "stream",
     "text": [
      "0\n"
     ]
    }
   ],
   "source": [
    "predictImg('/Users/nitin/Desktop/handwrittendigits/0_9.png')"
   ]
  },
  {
   "cell_type": "code",
   "execution_count": 156,
   "metadata": {},
   "outputs": [
    {
     "data": {
      "image/png": "[encoded data removed]",
      "text/plain": [
       "<Figure size 432x288 with 1 Axes>"
      ]
     },
     "metadata": {
      "needs_background": "light"
     },
     "output_type": "display_data"
    },
    {
     "name": "stdout",
     "output_type": "stream",
     "text": [
      "2\n"
     ]
    }
   ],
   "source": [
    "predictImg('/Users/nitin/Desktop/handwrittendigits/2_4.png')"
   ]
  },
  {
   "cell_type": "code",
   "execution_count": 117,
   "metadata": {},
   "outputs": [],
   "source": [
    "# fig = plt.figure(figsize=(20,20))\n",
    "\n",
    "# for i, img in enumerate(imagenames_list):\n",
    "#     result = predictImg(img)\n",
    "#     y = fig.add_subplot(7,7, i+1)\n",
    "    \n",
    "#     y.imshow(cv2.imread(img))\n",
    "#     y.axes.get_xaxis().set_visible(False)\n",
    "#     y.axes.get_yaxis().set_visible(False)\n",
    "#     plt.title('prediction '+str(result))\n",
    "\n",
    "# #plt.show()    "
   ]
  },
  {
   "cell_type": "code",
   "execution_count": null,
   "metadata": {},
   "outputs": [],
   "source": []
  }
 ],
 "metadata": {
  "colab": {
   "name": "HandWritten Digit Recognition.ipynb",
   "provenance": []
  },
  "kernelspec": {
   "display_name": "Python 3",
   "language": "python",
   "name": "python3"
  },
  "language_info": {
   "codemirror_mode": {
    "name": "ipython",
    "version": 3
   },
   "file_extension": ".py",
   "mimetype": "text/x-python",
   "name": "python",
   "nbconvert_exporter": "python",
   "pygments_lexer": "ipython3",
   "version": "3.8.8"
  }
 },
 "nbformat": 4,
 "nbformat_minor": 1
}
